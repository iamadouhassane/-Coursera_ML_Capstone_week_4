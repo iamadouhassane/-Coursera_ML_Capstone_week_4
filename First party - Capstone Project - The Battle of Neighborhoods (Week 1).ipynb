{
 "cells": [
  {
   "cell_type": "markdown",
   "metadata": {},
   "source": [
    "## <div align=\"center\">Introduction</div>"
   ]
  },
  {
   "cell_type": "markdown",
   "metadata": {},
   "source": [
    "#### <div align=\"center\"> A.1. Description & Disscusion of the Background</div>"
   ]
  },
  {
   "cell_type": "markdown",
   "metadata": {},
   "source": [
    "<p style=\"text-align:justify;\"> As a data scientist in a consulting company, I support companies in **decision-making** through the processing, exploitation, modeling and visualization of data to **respond as best as possible to the different business needs and above all optimally**. It was in this context that one day I was assigned to the R&D department of a large fast food brand XYZ to provide them with my expertise.\n",
    "The latter wishes to increase its market share and expand its business through a short and medium term investment plan in different countries. To do so, it aims\n",
    "at first, certain financial capitals more precisely New York and Toronto on their territory. She wishes to know in simple terms:</p>\n",
    "        \n",
    "- the potential of each financial capital in terms of attractiveness and profitability, ie where is it preferable to invest first?\n",
    "- the business potential in each financial capital, that is to say, to answer the question: what type of business in which place and in which place?\n",
    "- In other words, is it better to open a restaurant, pizzeria, fast food or bar in the Bronx rather than in Brooklyn or in Queens\n",
    "At New York ? And, if yes the restaurant is **more profitable  in the Bronx than the others then which type of restaurant will be optimally more profitable :**\n",
    "an Indian restaurant? a Mexican restaurant? a Chinese restaurant? or African restaurant?\n",
    "\n",
    "\n",
    "<p style=\"text-align:justify;\"> As you can imagine this choice is crucial and decisive if not vital for investors who before embarking on this new\n",
    "challenge would like to be reassured through a data analysis and ensure a good ROI or Return On Investments but also and above all to establish themselves well and\n",
    "be closer to customers. If today major brands of telephony, cars or web giants GAFAM or even the cloud like AWS have been able to impose themselves on\n",
    "respective markets it is undoubtedly not for nothing: they knew how to put the product which it is necessary, at the place which it is necessary for the customers which it is necessary and at the best attractive prices.</p>\n",
    "\n",
    "<p style=\"text-align:justify;\"> Among the multitude of projects, I preferred to expose this one because it is a very stumilant exercise where it is necessary to show analysis, rigor and\n",
    "especially of a very precise methodology. In addition, it is a case study of a real problem of decision-making aid and market research that faces today in the digital age any business.\n",
    "eager to set up a solid marketing strategy or policy to stand out from its competitors.</p>\n",
    "\n",
    "<p style=\"text-align:justify;\"> More particularly, this project deals with a precise model of data science which is the segmentation or clustering of the cities of New York and Toronto. This is indeed,\n",
    "to define, characterize and group in clusters the location of the most important businesses in all the different Neighborhoods and Boroughs of these 2 cities.\n",
    "This work goes of course through the use of many tools both for data collection, cleaning, visualization and for the constitution and analysis of clusters for example :</p>\n",
    "\n",
    "- <a href=\"#item1\">Beautifulsoup</a>  Python package to scrape websites and parse HTML code.\n",
    "- python library  <a href=\"#item1\">geocoder</a>   to explore a geographical location,\n",
    "- <a href=\"#item1\">Foursquare API</a>  to explore neighborhoods in New York and Toronto cities,  get the most common venue categories in each neighborhood\n",
    "- <a href=\"#item1\">k-means clustering</a> for neighborhood segmentation .\n",
    "- visualization library, <a href=\"#item1\">Folium</a>, to visualize the results.\n",
    "\n",
    "\n",
    "Now that the problem is posed as well as the objectives, we move on to the description of the data.\n",
    "\n"
   ]
  },
  {
   "cell_type": "markdown",
   "metadata": {},
   "source": [
    "  "
   ]
  },
  {
   "cell_type": "markdown",
   "metadata": {},
   "source": [
    "#### <div align=\"center\"> A.2. Data description </div>"
   ]
  },
  {
   "cell_type": "markdown",
   "metadata": {},
   "source": [
    "To carry out this project, I collected data from different sources by following these steps :"
   ]
  },
  {
   "cell_type": "markdown",
   "metadata": {},
   "source": [
    "1. To collect the data and have the Neighborhoods of all the Boroughs of Toronto, I started by web scraping from the site : https://en.wikipedia.org/wiki/List_of_postal_codes_of_Toronto:_M\n",
    "\n",
    "    Once the collection is finished, to have the geographic coordinates of each Neighborhood I merged this data with that of this site https://cocl.us/Geospatial_data/Geospatial_Coordinates.csv\n",
    "\n",
    "\n",
    "2. New York data was collected directly at: this link https://cocl.us/new_york_dataset/newyork_data.json\n",
    "3. For those 2 cities, I aggregate the 2 data set in one final dataframe and store it in my github which is update and can be directly download for the rest of this\n",
    "   project on: https://github.com/iamadouhassane/-Coursera_ML_Capstone_week_4/blob/master/NewYork_and_Toronto_Neighborhoods.csv\n",
    "   \n",
    "   The final dataframe feature's are: \n",
    "           City            : City can only be Toronto or New York for distinguish\n",
    "           Borough         : Borough of the city \n",
    "\t       Neighborhood    : Neighborhood in Borough of the city \n",
    "           Latitude        : Latitude of Neighborhood\n",
    "           Longitude       : Longitude of Neighborhood\n",
    "           Postal Code     : Postal Code  of Neighborhood but this in not important for this project\n",
    "\n",
    " NB : Those 3 points are describe on :\n",
    "\n",
    " https://github.com/iamadouhassane/-Coursera_ML_Capstone_week_4/blob/master/NewYork_and_Canada_data_preprocessing.ipynb\n",
    " \n",
    "4. After this,I used Forsquare API to get the most common venues of given Neighborhoods in Toronto and New York \n"
   ]
  },
  {
   "cell_type": "markdown",
   "metadata": {},
   "source": []
  },
  {
   "cell_type": "code",
   "execution_count": 2,
   "metadata": {},
   "outputs": [],
   "source": [
    "x=10"
   ]
  },
  {
   "cell_type": "code",
   "execution_count": null,
   "metadata": {},
   "outputs": [],
   "source": []
  }
 ],
 "metadata": {
  "kernelspec": {
   "display_name": "Python 3",
   "language": "python",
   "name": "python3"
  },
  "language_info": {
   "codemirror_mode": {
    "name": "ipython",
    "version": 3
   },
   "file_extension": ".py",
   "mimetype": "text/x-python",
   "name": "python",
   "nbconvert_exporter": "python",
   "pygments_lexer": "ipython3",
   "version": "3.7.0"
  }
 },
 "nbformat": 4,
 "nbformat_minor": 2
}
