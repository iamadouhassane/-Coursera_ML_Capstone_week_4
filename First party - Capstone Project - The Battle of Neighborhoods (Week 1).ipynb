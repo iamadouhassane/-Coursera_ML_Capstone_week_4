{
 "cells": [
  {
   "cell_type": "markdown",
   "metadata": {},
   "source": [
    "\n",
    "# Coursera Machine Learning : Applied Data Science Capstone  Week 4 & 5"
   ]
  },
  {
   "cell_type": "markdown",
   "metadata": {},
   "source": [
    "###     Clustering Neighborhoods in both New York and Toronto cities"
   ]
  },
  {
   "cell_type": "markdown",
   "metadata": {},
   "source": [
    "## <div align=\"center\">Introduction</div>"
   ]
  },
  {
   "cell_type": "markdown",
   "metadata": {},
   "source": [
    "#### <div align=\"center\"> A.1. Description & Disscusion of the Background</div>"
   ]
  },
  {
   "cell_type": "markdown",
   "metadata": {},
   "source": [
    "<p style=\"text-align:justify;\"> As a data scientist in a consulting company, I support companies in **decision-making** through the processing, exploitation, modeling and visualization of data to **respond as best as possible to the different business needs and above all optimally**. It was in this context that one day I was assigned to the R&D department of a large fast food brand XYZ to provide them with my expertise.\n",
    "The latter wishes to increase its market share and expand its business through a short and medium term investment plan in different countries. To do so, it aims\n",
    "at first, certain financial capitals more precisely New York and Toronto on their territory. She wishes to know in simple terms:</p>\n",
    "        \n",
    "- the potential of each financial capital in terms of attractiveness and profitability, ie where is it preferable to invest first?\n",
    "- the business potential in each financial capital, that is to say, to answer the question: what type of business in which place and in which place?\n",
    "- In other words, is it better to open a restaurant, pizzeria, fast food or bar in the Bronx rather than in Brooklyn or in Queens\n",
    "At New York ? And, if yes the restaurant is **more profitable  in the Bronx than the others then which type of restaurant will be optimally more profitable :**\n",
    "an Indian restaurant? a Mexican restaurant? a Chinese restaurant? or African restaurant?\n",
    "\n",
    "\n",
    "<p style=\"text-align:justify;\"> As you can imagine this choice is crucial and decisive if not vital for investors who before embarking on this new\n",
    "challenge would like to be reassured through a data analysis and ensure a good ROI or Return On Investments but also and above all to establish themselves well and\n",
    "be closer to customers. If today major brands of telephony, cars or web giants GAFAM or even the cloud like AWS have been able to impose themselves on\n",
    "respective markets it is undoubtedly not for nothing: they knew how to put the product which it is necessary, at the place which it is necessary for the customers which it is necessary and at the best attractive prices.</p>\n",
    "\n",
    "<p style=\"text-align:justify;\"> Among the multitude of projects, I preferred to expose this one because it is a very stumilant exercise where it is necessary to show analysis, rigor and\n",
    "especially of a very precise methodology. In addition, it is a case study of a real problem of decision-making aid and market research that faces today in the digital age any business.\n",
    "eager to set up a solid marketing strategy or policy to stand out from its competitors.</p>\n",
    "\n",
    "<p style=\"text-align:justify;\"> More particularly, this project deals with a precise model of data science which is the segmentation or clustering of the cities of New York and Toronto. This is indeed,\n",
    "to define, characterize and group in clusters the location of the most important businesses in all the different Neighborhoods and Boroughs of these 2 cities. We use an unsupersived machine learning algorithme.   \n",
    "This work goes of course through the use of many tools both for data collection, cleaning, visualization and for the constitution and analysis of clusters for example :</p>\n",
    "\n",
    "- <a href=\"#item1\">Beautifulsoup</a>  Python package to scrape websites and parse HTML code.\n",
    "- python library  <a href=\"#item1\">geocoder</a>   to explore a geographical location,\n",
    "- <a href=\"#item1\">Foursquare API</a>  to explore neighborhoods in New York and Toronto cities,  get the most common venue categories in each neighborhood\n",
    "- <a href=\"#item1\">k-means clustering</a> for neighborhood segmentation .\n",
    "- visualization library, <a href=\"#item1\">Folium</a>, to visualize the results.\n",
    "\n",
    "\n",
    "Now that the problem is posed as well as the objectives, we move on to the description of the data.\n",
    "\n"
   ]
  },
  {
   "cell_type": "markdown",
   "metadata": {},
   "source": [
    "  "
   ]
  },
  {
   "cell_type": "markdown",
   "metadata": {},
   "source": [
    "#### <div align=\"center\"> A.2. Data description </div>"
   ]
  },
  {
   "cell_type": "markdown",
   "metadata": {},
   "source": [
    "To carry out this project, I collected data from different sources by following these steps :"
   ]
  },
  {
   "cell_type": "markdown",
   "metadata": {},
   "source": [
    "1. To collect the data and have the Neighborhoods of all the Boroughs of Toronto, I started by web scraping from the site : https://en.wikipedia.org/wiki/List_of_postal_codes_of_Toronto:_M\n",
    "\n",
    "    Once the collection is finished, to have the geographic coordinates of each Neighborhood I merged this data with that of this site https://cocl.us/Geospatial_data/Geospatial_Coordinates.csv\n",
    "2. New York data was collected directly at: this link https://cocl.us/new_york_dataset/newyork_data.json\n",
    "3. For those 2 cities, I aggregate the 2 data set in one final dataframe and store it in my github which is update and can be directly download for the rest of this\n",
    "   project on: https://github.com/iamadouhassane/-Coursera_ML_Capstone_week_4/blob/master/NewYork_and_Toronto_Neighborhoods.csv\n",
    "   \n",
    "   The final dataframe feature's are: \n",
    "           City            : City can only be Toronto or New York for distinguish\n",
    "           Borough         : Borough of the city \n",
    "\t       Neighborhood    : Neighborhood in Borough of the city \n",
    "           Latitude        : Latitude of Neighborhood\n",
    "           Longitude       : Longitude of Neighborhood\n",
    "           Postal Code     : Postal Code  of Neighborhood but this in not important for this project\n",
    "\n",
    " NB : Those 3 points are describe on :\n",
    "\n",
    " https://github.com/iamadouhassane/-Coursera_ML_Capstone_week_4/blob/master/NewYork_and_Canada_data_preprocessing.ipynb\n",
    " \n",
    "4. After this,I used Forsquare API to get the most common venues of given Neighborhoods in Toronto and New York \n",
    "\n",
    "All the results of this project **:** plot, file or  data set as I said will be available on my github account. Progressively,\n",
    "I will indicates where are their repertories . \n",
    "it is the end of this section which leads us to the part of the methodology\n"
   ]
  },
  {
   "cell_type": "markdown",
   "metadata": {},
   "source": [
    "## <div align=\"center\"> Methodology  </div>"
   ]
  },
  {
   "cell_type": "markdown",
   "metadata": {},
   "source": [
    "<p style=\"text-align:justify;\"> In this section, I will focus on data exploration in order to share my data and so to know which data processing in order to know my data, interpret it and also know which statistical approach is more suitable for cleaning or modeling. All this project , is done on python language by using differents packages and github for storage, publication and versionning. As we already describes data prepocessing in the last part, we import dataframe of New york's and Toronto's cities with their geographical coordinates. A first observation, shows us that New york's city has 3 times more neighborhoods then Toronto's city curiously for less Borough. That let's understand that New York's Borough are more higher than Toronto's one. those informations are resumed in the following picture. :</p>\n",
    " "
   ]
  },
  {
   "cell_type": "markdown",
   "metadata": {},
   "source": [
    "![30% center](information_1.PNG)"
   ]
  },
  {
   "cell_type": "markdown",
   "metadata": {},
   "source": [
    "<p style=\"text-align:justify;\">\n",
    "So I used python **geopy** library to get the latitude and longitude values of cities address and used **folium** library to visualize geographic details of the 2 cities and its boroughs and I created a map of cities with boroughs superimposed on top. In order to simplify the task of map plot, I create a function which used latitude, longitude ,Borough, Neighborhood , color values to get the visual as below:\n",
    "\n",
    "**Please for more details in map manupilation see:**\n",
    "1. https://github.com/iamadouhassane/-Coursera_ML_Capstone_week_4/blob/master/New_york_foluim.html\n",
    "2. https://github.com/iamadouhassane/-Coursera_ML_Capstone_week_4/blob/master/New_york_foluim.html"
   ]
  },
  {
   "cell_type": "markdown",
   "metadata": {},
   "source": [
    "![30% center](information_NY_map.PNG)\n",
    "![30% center](information_TO_map.PNG)\n"
   ]
  },
  {
   "cell_type": "markdown",
   "metadata": {},
   "source": [
    "<p style=\"text-align:justify;\">\n",
    "Now that we have the maps of 2 cities , let's explore their Neighborhoods by using **Foursquare API** which give us the most common venue categories in each neighborhood, and then use this feature to group the neighborhoods into clusters. In order to apply this API to all neighborhoods, i create a function to automatize the process. I designed the limit as 130 venues and the radius of 500 meter for each borough from their given latitude and longitude informations. \n",
    "In total, Foursquare API returns **12025** venues for the two cities with **457 uniques categories**: **427** for **New York** and  **275** for **Toronto.** \n",
    "That is to say that they have categories of venues in common precisely 245 bu using **Venn diagramm** and the figure out is done by this picture "
   ]
  },
  {
   "cell_type": "markdown",
   "metadata": {},
   "source": [
    "![30% center](information_2.PNG)\n",
    "\n",
    "![30% center](information_3.PNG)"
   ]
  },
  {
   "cell_type": "markdown",
   "metadata": {},
   "source": [
    "with this observation and especially because of the high number of unique category in New York, we decide to analyze and segment separately the 2  cities. So,you start by spliting the results of Neighborhood by city and the reason is to apply one hot encoding on the Venue Category variable for each city separately. In this way , you make sure you will not increase the number of columns in this process and not to have a sparsite matrix (sparsite matrix is a matrice which has a lot of 0).\n",
    "After this proccess, we define for each neighborhood the top 10 most common venues for the 2 cities by calculate their frequencies and  build clusters for neighborhood. To do this, we first determine a optimal number of clusters for the two cities  by using k-mean algorithme and finally plot the result with foluim.\n",
    "**With Elbow method as you see optimum number of clusters is 3 for both 2 cities. Realy, we have 3 clusters in Toronto's city and 4 in New York but for homogenity and business needs we decide to fixe 3 clusters**\n"
   ]
  },
  {
   "cell_type": "markdown",
   "metadata": {},
   "source": [
    "![30% center](information_4.PNG)\n",
    "![30% center](information_5.PNG)"
   ]
  },
  {
   "cell_type": "markdown",
   "metadata": {},
   "source": [
    "## <div align=\"center\"> Results  </div>"
   ]
  },
  {
   "cell_type": "markdown",
   "metadata": {},
   "source": [
    "In this section, we will visualize the change on our first cities maps plots using kmean clustering.\n",
    "So we reproduce the same map by adding now the cluster option . Thus we have :\n",
    "\n",
    "**Please for more details in map manupilation see**:\n",
    "1. https://github.com/iamadouhassane/-Coursera_ML_Capstone_week_4/blob/master/map_clusters_NewYork.html\n",
    "2. https://github.com/iamadouhassane/-Coursera_ML_Capstone_week_4/blob/master/map_clusters_Toronto.html"
   ]
  },
  {
   "cell_type": "markdown",
   "metadata": {},
   "source": [
    "![30% center](information_NY_map_cluster.PNG)\n",
    "![30% center](information_TO_map_cluster.PNG)"
   ]
  },
  {
   "cell_type": "markdown",
   "metadata": {},
   "source": [
    "<p style=\"text-align:justify;\">\n",
    "    \n",
    "Now, we can examine each cluster and determine the discriminating venue categories that distinguish each cluster. Based on the defining categories, we can then assign a name to each cluster. \n",
    "<br/>  **Pay attention , you can't compare cluster 1 in Toronto with cluster 1 in New York. Even if it is the same cluster name in the 2 cities, it remains only a name and not a certain form of similarity or dissimilarity in this same cluster 1 . It has no sens because the clustering was done separatly. The consequence of this approach is that cluster 1 in New York may perhaps correspond to cluster 2 or cluster 3 in Toronto.  In the same idea cluster 2 with cluster 2 etcs... To do this is an error and the probability is low for this schema :**\n",
    "<br/> cluster1(Toronto) = cluster1(New York)\n",
    "<br/> cluster2(Toronto) = cluster2(New York)\n",
    "<br/> cluster3(Toronto) = cluster3(New York)\n",
    "\n",
    "**At this level we only retain the fact that each city has 3 clusters and that these 3 clusters are differents taking into account their physical measures. But within a cluster, individuals have similarities. A more in-depth analysis on each cluster of each city, could perhaps give us more details on the correspondence of the clusters. Cluster 1 in Toronto corresponds in which cluster in New York? This is an simple hypothesis**\n",
    "\n",
    "\n",
    "in this part dedicated to the cluster analysis, we proceed to a so-called funnel analysis, that is to say that at the beginning we start with a certain number of features to interpret the results then gradually we add other features\n",
    "<br/> "
   ]
  },
  {
   "cell_type": "markdown",
   "metadata": {},
   "source": [
    "####  analysis approach 1 :  analysis with **City** and **Cluster Labels**\n",
    "In this analysis approach you will determine the discriminating venue categories that distinguish each cluster by using only **City** and **Cluster Labels** variables. Through this first analysis, we will be able to identify the most important common  venue in the clusters of each city by calculating **their occurrence.** Finally, you plot the result to figure out the pertinence of analysis. In this first approach , we clearly identify in a global way the most importants business.\n",
    "The more important a business the more it is colored in **yellow.** So with the result, i will suggeste to a fast food brand XYZ and her investors :\n",
    " 1. to start with New York because it is more attractive in terms of business importance and offers a wide range than Toronto\n",
    " 2. it is a competitive advantage for a possible choice of diversification and present more concentrated business\n",
    " 3. Fast food tops the list in this city in order  among others Pizza Place, Coffee Shop, Italian restaurant , Chinese restaurant , fast food restaurant  while the most important business in Toronto are Coffee Shop, Cafe , restaurant"
   ]
  },
  {
   "cell_type": "markdown",
   "metadata": {},
   "source": [
    "![30% center](cluster_approch_1_analysis.PNG)\n"
   ]
  },
  {
   "cell_type": "markdown",
   "metadata": {},
   "source": [
    "##### analysis approach 2 :  analysis with **City, Borough and Cluster Labels**\n",
    "In this analysis approach you will determine the discriminating venue categories that distinguish each cluster by using **City, Borough and Cluster Labels** variables. Through this second analysis, we will complete the first analysis by **adding granularity**.In this way ,we will be able to identify the most important common  venue in the clusters of each Borough in the city by calculating **their occurrence.** Finally, you plot the result to figure out the pertinence of analysis. Because I can't visualize all the plots, I selected only some one for example **Manhattan and Brookkly**\n",
    "\n",
    "As we tell in **analysis approach 1** New york is more attractive but by deepening our analysis on **Borough** feature we observe that is attractivity is not in all Boroughof New York. **The density and importance of business is very low in Brookkly luster 1 and Manhattan cluster 2**. Also, it is preferable to invest in coffe shop, cafe  or italian restaurant in Manhattan while the promising business Brookkly in are Pizza place, coffee shop ,donut shop ,  bar or chinese restaurant"
   ]
  },
  {
   "cell_type": "markdown",
   "metadata": {},
   "source": [
    "![30% center](cluster_approch_2_analysis_1.PNG)"
   ]
  },
  {
   "cell_type": "markdown",
   "metadata": {},
   "source": [
    "##### analysis approach 3 :  analysis with **City, Borough, Cluster Labels and Common Venue position  **\n",
    "In analysis approach 1 and analysis approach 2, we take all common venue position or as we know \n",
    "**1st Most Common Venue is more important than 2nd Most Common Venue and the 2nd Most Common Venue is more important than 3rd Most Common Venue .etcs ...**. So let's take this information to see th impact. \n",
    "In this analysis approach you will determine the discriminating venue categories that distinguish each cluster by using **City, Borough , Cluster Labels,and  Common Venue position** variables. Through this third analysis, we will complete the second analysis by **another adding granularity**.In this way ,we will be able to identify the most important common  venue in the clusters of each Borough in the city by calculating **their occurrence.** Finally, you plot the result to figure out the pertinence of analysis . To reduice the analysis, let's take **only the  1st Most Common Venue.** \n",
    "Then we have interessant result because in this **1st Most Common Venue**, Manhattan does not have cluster 1 and its cluster 2 is not a profitable business, only cluster 0 gives business opportinuities. And In Brooklyn only cluster 0 and cluster 2 are importants \n",
    "\n"
   ]
  },
  {
   "cell_type": "markdown",
   "metadata": {},
   "source": [
    "![30% center](cluster_approch_3_analysis_1.PNG)"
   ]
  },
  {
   "cell_type": "markdown",
   "metadata": {},
   "source": [
    "## <div align=\"center\"> Discussion  </div>"
   ]
  },
  {
   "cell_type": "markdown",
   "metadata": {},
   "source": [
    "<p style=\"text-align:justify;\">\n",
    "Through these three analysis approaches, we have highlighted the importance of doing an analysis from different angles: we start from the simplest to the most in-depth. So we are sure to better understand the data, make it speak and generate insights. It must be recognized, I used fairly simplistic approaches combined with kmean clustering which is also quite simple to apply. This is the importance of data science, we start from a complex problem, we decompose it according to several angles of resolution and we choose the one that gives the best results: there is no point in complicating life.\n",
    " My approaches were simple but the results are well formulated, very precise and above all answering all questions and all business needs: this is the most important.\n",
    "\n",
    "<p style=\"text-align:justify;\">\n",
    "Of course, each data scientist is free to follow the methodology that seems essential to solve his problem, but for my part in this project, I know that I could develop it and improve the result by taking more features from the start such as for example the price of food in restaurants, the monthly turnover or the restaurant score to see which ones are better rated. A quick and simple way to show you that this analysis is limited is to take for example a Neighborhood where we have a lot of restaurants so high frequency, interesting and attractive but if all the restaurants are badly rated then we risk losing a lot of money . Also a Neighborhood can have few restaurants but be far profitable because the restaurants are highly rated and they receive customers of a certain social class because they sell luxury meals.\n",
    "We can therefore complete the analysis by taking more features which obviously goes with the implementation of new machine learning models."
   ]
  },
  {
   "cell_type": "markdown",
   "metadata": {},
   "source": [
    "## <div align=\"center\"> Conclusion  </div>"
   ]
  },
  {
   "cell_type": "markdown",
   "metadata": {},
   "source": [
    "In this project I showed, through a real case study of clustering that a modeling and machine learning project can bring together three essential steps namely:\n",
    " 1. preprocessing and data transformation;\n",
    " 2. Construction of one or more Machine Learning models;\n",
    " 3. Search for the best hyperparameters\n",
    "\n",
    "Once these steps are well applied, the optimal model found we go to the deployment phase.\n",
    "It is an iterative work according to the feedbacks of the different teams and the back testing procedures.\n",
    "So, it was through a kmean unsupervised machine learning model that I was able to perform a\n",
    "a discriminating analysis of the coming categories that distinguish each cluster and know the most profitable businesses\n",
    "in the cities of New York and Toronto with a certain granularity."
   ]
  }
 ],
 "metadata": {
  "kernelspec": {
   "display_name": "Python 3",
   "language": "python",
   "name": "python3"
  },
  "language_info": {
   "codemirror_mode": {
    "name": "ipython",
    "version": 3
   },
   "file_extension": ".py",
   "mimetype": "text/x-python",
   "name": "python",
   "nbconvert_exporter": "python",
   "pygments_lexer": "ipython3",
   "version": "3.7.0"
  }
 },
 "nbformat": 4,
 "nbformat_minor": 2
}
